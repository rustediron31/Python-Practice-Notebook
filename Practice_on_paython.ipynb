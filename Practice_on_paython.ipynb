{
  "cells": [
    {
      "cell_type": "code",
      "execution_count": null,
      "metadata": {
        "colab": {
          "base_uri": "https://localhost:8080/"
        },
        "id": "HZ_15PjeaRoA",
        "outputId": "0909a03a-9f37-4d6e-d67f-cf669e7387bf"
      },
      "outputs": [
        {
          "name": "stdout",
          "output_type": "stream",
          "text": [
            "Enter first number: 1\n",
            "Enter second number: 2\n",
            "Sum of two numbers is:  3\n"
          ]
        }
      ],
      "source": [
        "num_1 = int(input(\"Enter first number: \"))\n",
        "num_2 = int(input(\"Enter second number: \"))\n",
        "Sum = num_1 + num_2\n",
        "print(\"Sum of two numbers is: \", Sum)"
      ]
    },
    {
      "cell_type": "markdown",
      "metadata": {
        "id": "tZ-WN_UtbD7H"
      },
      "source": [
        "**Question 2 **"
      ]
    },
    {
      "cell_type": "code",
      "execution_count": null,
      "metadata": {
        "id": "bjKGC5WDc9yb"
      },
      "outputs": [],
      "source": [
        "del print\n"
      ]
    },
    {
      "cell_type": "code",
      "execution_count": null,
      "metadata": {
        "colab": {
          "base_uri": "https://localhost:8080/"
        },
        "id": "cCUhJZbod8Xf",
        "outputId": "abc46484-7711-4856-9034-7df912d477c3"
      },
      "outputs": [
        {
          "name": "stdout",
          "output_type": "stream",
          "text": [
            "Entee your age = -45\n",
            "Enter your weight in Kg = 85\n",
            "Enter your height in cm = 5.6\n",
            "21\n",
            "The BMR of the patient is 1509\n"
          ]
        }
      ],
      "source": [
        "age = int(input(\"Entee your age = \"))\n",
        "weight = int(input(\"Enter your weight in Kg = \"))\n",
        "height =  float(input(\"Enter your height in cm = \"))\n",
        "Correct_age = abs(age)\n",
        "\n",
        "print(correct_age)\n",
        "\n",
        "BMR = \"88.362 + (13.397*weight) + (4.799*height) - (5.677*age)\"\n",
        "\n",
        "bmr = eval(BMR)\n",
        "\n",
        "print(\"The BMR of the patient is\", int(bmr))\n"
      ]
    },
    {
      "cell_type": "code",
      "execution_count": null,
      "metadata": {
        "colab": {
          "base_uri": "https://localhost:8080/"
        },
        "id": "joGuhUAPfRf3",
        "outputId": "91d6ccac-f605-4f1e-b4a2-7a80f60a861e"
      },
      "outputs": [
        {
          "name": "stdout",
          "output_type": "stream",
          "text": [
            "Course Name = Science \n",
            "Entee your age = 23\n",
            "Course Name = commerce\n",
            "Entee your age = 24\n",
            "Course Name = maths\n",
            "Entee your age = 27\n",
            "Course Name = english \n",
            "Entee your age = 26\n",
            "Course Name = marathi \n",
            "Entee your age = 22\n",
            "Average Age of Students = 24.4\n"
          ]
        }
      ],
      "source": [
        "Student_1_course_Name= str(input(\"Course Name = \"))\n",
        "Students_1_age = int(input(\"Entee your age = \"))\n",
        "\n",
        "Student_2_course_Name= str(input(\"Course Name = \"))\n",
        "Students_2_age = int(input(\"Entee your age = \"))\n",
        "\n",
        "Student_3_course_Name= str(input(\"Course Name = \"))\n",
        "Students_3_age = int(input(\"Entee your age = \"))\n",
        "\n",
        "Student_4_course_Name= str(input(\"Course Name = \"))\n",
        "Students_4_age = int(input(\"Entee your age = \"))\n",
        "\n",
        "Student_5_course_Name= str(input(\"Course Name = \"))\n",
        "Students_5_age = int(input(\"Entee your age = \"))\n",
        "\n",
        "avg = (Students_1_age+Students_2_age+Students_3_age+Students_4_age+Students_5_age)/5\n",
        "\n",
        "print(\"Average Age of Students =\", int(avg)\n"
      ]
    },
    {
      "cell_type": "markdown",
      "metadata": {
        "id": "FY2xgPGXjUoy"
      },
      "source": [
        "Special  Class\n"
      ]
    },
    {
      "cell_type": "code",
      "execution_count": null,
      "metadata": {
        "colab": {
          "base_uri": "https://localhost:8080/"
        },
        "id": "HU9k0o_Lg4Bw",
        "outputId": "13bcba3b-fc31-4bff-b175-0b48f0142c81"
      },
      "outputs": [
        {
          "name": "stdout",
          "output_type": "stream",
          "text": [
            "Enter your mathametical expression = 32/12\n",
            "2\n"
          ]
        }
      ],
      "source": [
        "expression = input(\"Enter your mathametical expression = \")\n",
        "Result = eval(expression)\n",
        "print(int(Result))"
      ]
    },
    {
      "cell_type": "code",
      "execution_count": null,
      "metadata": {
        "colab": {
          "base_uri": "https://localhost:8080/"
        },
        "id": "8eAEHlQKjsIY",
        "outputId": "5018cb77-fdb5-41f2-ecf7-a7c6a0a3ad2c"
      },
      "outputs": [
        {
          "name": "stdout",
          "output_type": "stream",
          "text": [
            "Enter the value of your house= 1500\n",
            "Enter the number of bedrooms = 2\n",
            "Enter the budgest500000\n",
            "Enter the value of your house= 3000\n",
            "Enter the number of bedrooms = 3\n",
            "Enter the budgest800000\n",
            "The price of the house_1= 7500000.0\n",
            "The price of the house_2= 15000000.0\n",
            "User one 1 is paying aboce threshold = True\n",
            "User one 2 is paying aboce threshold = True\n"
          ]
        }
      ],
      "source": [
        "house_size_1 = float(input(\"Enter the value of your house= \"))\n",
        "bedrooms_1 = int(input(\"Enter the number of bedrooms = \"))\n",
        "price_1 = float(input(\"Enter the budgest\"))\n",
        "\n",
        "house_size_2 = float(input(\"Enter the value of your house= \"))\n",
        "bedrooms_2 = int(input(\"Enter the number of bedrooms = \"))\n",
        "price_2 = float(input(\"Enter the budgest\"))\n",
        "\n",
        "house_price_1 = house_size_1*5000\n",
        "house_price_2 = house_size_2*5000\n",
        "\n",
        "print(\"The price of the house_1=\", house_price_1)\n",
        "print(\"The price of the house_2=\", house_price_2)\n",
        "\n",
        "threshold = 7500000\n",
        "\n",
        "\n",
        "Under_threshold_1 = house_price_1 >= threshold\n",
        "Under_threshold_2 = house_price_2 >= threshold\n",
        "\n",
        "print(\"User one 1 is paying aboce threshold =\", (Under_threshold_1))\n",
        "print(\"User one 2 is paying aboce threshold =\", (Under_threshold_2))"
      ]
    },
    {
      "cell_type": "markdown",
      "metadata": {
        "id": "TwbCf75Sl-eR"
      },
      "source": []
    },
    {
      "cell_type": "code",
      "execution_count": null,
      "metadata": {
        "colab": {
          "base_uri": "https://localhost:8080/"
        },
        "id": "Wa82yFg4pT9G",
        "outputId": "fefa3392-ff1d-4216-9aed-d587235c47f1"
      },
      "outputs": [
        {
          "name": "stdout",
          "output_type": "stream",
          "text": [
            "110.00000000000001\n",
            "your_budegt= 75\n",
            "False\n"
          ]
        }
      ],
      "source": [
        "stock_symbol =\"xyz\"\n",
        "current_price = 100\n",
        "percentage_change = 10\n",
        "\n",
        "new_price = current_price*(1+percentage_change/100)\n",
        "\n",
        "print(new_price)\n",
        "\n",
        "user_budget = int(input(\"your_budegt= \"))\n",
        "\n",
        "a=user_budget >= new_price\n",
        "\n",
        "print(a)"
      ]
    },
    {
      "cell_type": "code",
      "execution_count": null,
      "metadata": {
        "colab": {
          "base_uri": "https://localhost:8080/"
        },
        "id": "CIrAMkNKphEO",
        "outputId": "d8370187-e0f9-4ac5-f773-ac91a67366ea"
      },
      "outputs": [
        {
          "name": "stdout",
          "output_type": "stream",
          "text": [
            "Enter current temperature = 32\n",
            "False\n"
          ]
        }
      ],
      "source": [
        "current_tem = float(input(\"Enter current temperature = \"))\n",
        "min_tem = 25\n",
        "max_tem = 45\n",
        "\n",
        "Result = min_tem <= current_tem >= max_tem\n",
        "\n",
        "print(Result)"
      ]
    },
    {
      "cell_type": "markdown",
      "metadata": {
        "id": "GgBH0xeX2bbs"
      },
      "source": [
        "# **Conditional Statements**"
      ]
    },
    {
      "cell_type": "code",
      "execution_count": null,
      "metadata": {
        "colab": {
          "base_uri": "https://localhost:8080/"
        },
        "id": "Hsb7H2IZ2hEv",
        "outputId": "5047c3b2-d268-42a1-8633-e0ed2c8183bb"
      },
      "outputs": [
        {
          "name": "stdout",
          "output_type": "stream",
          "text": [
            "condition is false\n"
          ]
        }
      ],
      "source": [
        "i = 20\n",
        "if i < 10:\n",
        "  print(\"20 is geater than 10\")\n",
        "else:\n",
        "  print(\"condition is false\")\n",
        "\n",
        "\n"
      ]
    },
    {
      "cell_type": "markdown",
      "metadata": {
        "id": "RBFR1rS65Nm2"
      },
      "source": [
        "# **#temparture condition if less than 15degree not convenient and in between 24 to 28 temperature is convenient**"
      ]
    },
    {
      "cell_type": "code",
      "execution_count": null,
      "metadata": {
        "colab": {
          "base_uri": "https://localhost:8080/"
        },
        "id": "wGYn-PPs5UHm",
        "outputId": "414879a3-d411-4591-86aa-1d8c8ef803be"
      },
      "outputs": [
        {
          "name": "stdout",
          "output_type": "stream",
          "text": [
            "enter the current temperature = 26\n",
            "temperature is conveniant\n"
          ]
        }
      ],
      "source": [
        "temp = float(input(\"enter the current temperature = \"))\n",
        "\n",
        "if temp <= 15:\n",
        "  print(\"temparture is not conveniant\")\n",
        "\n",
        "if 24<temp<28:\n",
        "  print(\"temperature is conveniant\")\n",
        "\n",
        "else:\n",
        "  print(\"temperature is not conveniant\")"
      ]
    },
    {
      "cell_type": "markdown",
      "metadata": {
        "id": "mqrjVbqt6tmu"
      },
      "source": [
        "# **salary Example**"
      ]
    },
    {
      "cell_type": "code",
      "execution_count": null,
      "metadata": {
        "colab": {
          "base_uri": "https://localhost:8080/"
        },
        "id": "C2DkxKne66oq",
        "outputId": "21665928-26bd-45ce-eb98-89d226067b23"
      },
      "outputs": [
        {
          "name": "stdout",
          "output_type": "stream",
          "text": [
            "Enter your base salary = 500000\n",
            "Enter your years of services = 6\n",
            "you will get salary of 480000.0\n"
          ]
        }
      ],
      "source": [
        "base_salary = float(input(\"Enter your base salary = \"))\n",
        "year_of_services = float(input(\"Enter your years of services = \"))\n",
        "\n",
        "if year_of_services > 5:\n",
        "  net_salary = base_salary+(0.08*base_salary)-(0.12*base_salary)\n",
        "  print(\"you will get salary of\", net_salary)\n",
        "\n",
        "else :\n",
        "  net_salary = base_salary-(0.12*base_salary)\n",
        "  print(\"you will get salary of\", net_salary)"
      ]
    },
    {
      "cell_type": "code",
      "execution_count": null,
      "metadata": {
        "id": "7O_imXVv-S-V"
      },
      "outputs": [],
      "source": []
    },
    {
      "cell_type": "code",
      "execution_count": null,
      "metadata": {
        "colab": {
          "base_uri": "https://localhost:8080/"
        },
        "id": "AHHh78tP87do",
        "outputId": "50ad194a-436d-42b4-ab77-3206151e1948"
      },
      "outputs": [
        {
          "name": "stdout",
          "output_type": "stream",
          "text": [
            "Enter your city =Banglore\n",
            "Bot\n"
          ]
        }
      ],
      "source": [
        "a = str(input(\"Enter your city =\"))\n",
        "\n",
        "if a == \"Mumbai\":\n",
        "  print(\"Gate of India\")\n",
        "\n",
        "elif a == \"Kolkota\":\n",
        "  print (\"Victoria\")\n",
        "\n",
        "elif a == \"Chennai\":\n",
        "  print (\"Marina\")\n",
        "\n",
        "elif a == \"Banglore\":\n",
        "  print (\"Bot\")\n",
        "\n",
        "elif a == \"Pune\":\n",
        "  print (\"Sahnivarwada\")\n",
        "\n",
        "else:\n",
        "  print(\"No Idea\")"
      ]
    },
    {
      "cell_type": "markdown",
      "metadata": {
        "id": "5z9Re-45FPxM"
      },
      "source": [
        "While Loop"
      ]
    },
    {
      "cell_type": "code",
      "execution_count": null,
      "metadata": {
        "colab": {
          "base_uri": "https://localhost:8080/"
        },
        "id": "N2qsEyBoFRBB",
        "outputId": "b97464d4-41e9-4fd8-a26b-8291a0d81a84"
      },
      "outputs": [
        {
          "name": "stdout",
          "output_type": "stream",
          "text": [
            "1\n",
            "2\n",
            "3\n",
            "4\n",
            "5\n"
          ]
        }
      ],
      "source": [
        "count = 1\n",
        "while count<=5:\n",
        "  print(count)\n",
        "  count = count+1"
      ]
    },
    {
      "cell_type": "code",
      "execution_count": null,
      "metadata": {
        "colab": {
          "base_uri": "https://localhost:8080/",
          "height": 211
        },
        "id": "MJhGZcfNFw_l",
        "outputId": "440a5895-8e5e-4e88-cb0f-0c1a7fae6015"
      },
      "outputs": [
        {
          "ename": "KeyboardInterrupt",
          "evalue": "",
          "output_type": "error",
          "traceback": [
            "\u001b[0;31m---------------------------------------------------------------------------\u001b[0m",
            "\u001b[0;31mKeyboardInterrupt\u001b[0m                         Traceback (most recent call last)",
            "\u001b[0;32m<ipython-input-113-54e51ef3bb50>\u001b[0m in \u001b[0;36m<cell line: 2>\u001b[0;34m()\u001b[0m\n\u001b[1;32m      1\u001b[0m \u001b[0mnum\u001b[0m \u001b[0;34m=\u001b[0m \u001b[0;36m1\u001b[0m\u001b[0;34m\u001b[0m\u001b[0;34m\u001b[0m\u001b[0m\n\u001b[1;32m      2\u001b[0m \u001b[0;32mwhile\u001b[0m \u001b[0mnum\u001b[0m\u001b[0;34m<=\u001b[0m\u001b[0;36m50\u001b[0m\u001b[0;34m:\u001b[0m\u001b[0;34m\u001b[0m\u001b[0;34m\u001b[0m\u001b[0m\n\u001b[0;32m----> 3\u001b[0;31m   \u001b[0;32mif\u001b[0m \u001b[0mnum\u001b[0m\u001b[0;34m%\u001b[0m\u001b[0;36m2\u001b[0m \u001b[0;34m==\u001b[0m \u001b[0;36m0\u001b[0m\u001b[0;34m:\u001b[0m\u001b[0;34m\u001b[0m\u001b[0;34m\u001b[0m\u001b[0m\n\u001b[0m\u001b[1;32m      4\u001b[0m     \u001b[0mprint\u001b[0m\u001b[0;34m(\u001b[0m\u001b[0mnum\u001b[0m\u001b[0;34m)\u001b[0m\u001b[0;34m\u001b[0m\u001b[0;34m\u001b[0m\u001b[0m\n\u001b[1;32m      5\u001b[0m     \u001b[0mnum\u001b[0m \u001b[0;34m=\u001b[0m \u001b[0mnum\u001b[0m\u001b[0;34m+\u001b[0m\u001b[0;36m1\u001b[0m\u001b[0;34m\u001b[0m\u001b[0;34m\u001b[0m\u001b[0m\n",
            "\u001b[0;31mKeyboardInterrupt\u001b[0m: "
          ]
        }
      ],
      "source": [
        "  num = 1\n",
        "  while num<=50:\n",
        "    if num%2 == 0:\n",
        "      print(num)\n",
        "      num = num+1\n"
      ]
    },
    {
      "cell_type": "code",
      "execution_count": null,
      "metadata": {
        "colab": {
          "base_uri": "https://localhost:8080/"
        },
        "id": "vOh1s9s0HQXC",
        "outputId": "93540f97-f989-41c1-b7ce-85d262cffdd6"
      },
      "outputs": [
        {
          "name": "stdout",
          "output_type": "stream",
          "text": [
            "enter your email id = sagarkodimyala2gmail.com\n",
            "Invalid Email Id \n",
            "Enter your email properly = sagarkodimyala@gmail.com\n",
            "Email ID validation passed\n"
          ]
        }
      ],
      "source": [
        "email = str(input(\"enter your email id = \"))\n",
        "\n",
        "valid_email = True\n",
        "\n",
        "while valid_email:\n",
        "  if \"@\" in email and \".\" in email:\n",
        "    print (\"Email ID validation passed\")\n",
        "    valid_email = False\n",
        "\n",
        "  else:\n",
        "    print(\"Invalid Email Id \")\n",
        "    email = input(\"Enter your email properly = \")"
      ]
    },
    {
      "cell_type": "markdown",
      "metadata": {
        "id": "4Ay4APkAJzaq"
      },
      "source": [
        "# **For Loop **"
      ]
    },
    {
      "cell_type": "code",
      "execution_count": null,
      "metadata": {
        "colab": {
          "base_uri": "https://localhost:8080/"
        },
        "id": "bvoPX0plJ2x1",
        "outputId": "dba866c1-a22f-47dc-82c1-05da6e4e406b"
      },
      "outputs": [
        {
          "name": "stdout",
          "output_type": "stream",
          "text": [
            "1\n",
            "2\n",
            "3\n",
            "4\n",
            "5\n"
          ]
        }
      ],
      "source": [
        "numbers = [1,2,3,4,5]\n",
        "for i in numbers:\n",
        "  print(i)"
      ]
    },
    {
      "cell_type": "code",
      "execution_count": null,
      "metadata": {
        "colab": {
          "base_uri": "https://localhost:8080/"
        },
        "id": "nxQVUzsvKa7E",
        "outputId": "fbb0e49d-f394-4f91-b84c-156c210eed82"
      },
      "outputs": [
        {
          "name": "stdout",
          "output_type": "stream",
          "text": [
            "s\n",
            "t\n",
            "u\n",
            "d\n",
            "e\n",
            "n\n",
            "t\n",
            "s\n"
          ]
        }
      ],
      "source": [
        "n = \"students\"\n",
        "for i in n:\n",
        "  print(i)"
      ]
    },
    {
      "cell_type": "code",
      "execution_count": null,
      "metadata": {
        "colab": {
          "base_uri": "https://localhost:8080/"
        },
        "id": "JWDNmqx0KqyR",
        "outputId": "d1c9a1a4-6996-4978-c34f-97ff8636f7a9"
      },
      "outputs": [
        {
          "name": "stdout",
          "output_type": "stream",
          "text": [
            "0\n",
            "1\n",
            "2\n",
            "3\n",
            "4\n",
            "5\n",
            "6\n",
            "7\n",
            "8\n",
            "9\n",
            "10\n",
            "11\n"
          ]
        }
      ],
      "source": [
        "for i in range(12):\n",
        "  print(i)"
      ]
    },
    {
      "cell_type": "code",
      "execution_count": null,
      "metadata": {
        "colab": {
          "base_uri": "https://localhost:8080/"
        },
        "id": "7fvpY-j0K3YV",
        "outputId": "0a321e20-ad21-4c35-9fe4-9f24bb15c6bc"
      },
      "outputs": [
        {
          "name": "stdout",
          "output_type": "stream",
          "text": [
            "5\n",
            "6\n",
            "7\n",
            "8\n",
            "9\n",
            "10\n",
            "11\n",
            "12\n",
            "13\n",
            "14\n",
            "15\n",
            "16\n",
            "17\n",
            "18\n",
            "19\n",
            "20\n",
            "21\n",
            "22\n",
            "23\n",
            "24\n"
          ]
        }
      ],
      "source": [
        "for x in range(5,25):\n",
        "  print(x)"
      ]
    },
    {
      "cell_type": "code",
      "execution_count": null,
      "metadata": {
        "colab": {
          "base_uri": "https://localhost:8080/"
        },
        "id": "rA2j5aQdK-en",
        "outputId": "a64380b6-06d1-4923-f479-5653e2b7c02a"
      },
      "outputs": [
        {
          "name": "stdout",
          "output_type": "stream",
          "text": [
            "the number is even=  0\n",
            "the number is odd=  1\n",
            "the number is even=  2\n",
            "the number is odd=  3\n",
            "the number is even=  4\n",
            "the number is odd=  5\n",
            "the number is even=  6\n",
            "the number is odd=  7\n",
            "the number is even=  8\n",
            "the number is odd=  9\n",
            "the number is even=  10\n",
            "the number is odd=  11\n",
            "the number is even=  12\n",
            "the number is odd=  13\n",
            "the number is even=  14\n",
            "the number is odd=  15\n",
            "the number is even=  16\n",
            "the number is odd=  17\n",
            "the number is even=  18\n",
            "the number is odd=  19\n",
            "the number is even=  20\n",
            "the number is odd=  21\n",
            "the number is even=  22\n",
            "the number is odd=  23\n",
            "the number is even=  24\n",
            "the number is odd=  25\n"
          ]
        }
      ],
      "source": [
        "for i in range(0,26):\n",
        "  if i%2==0:\n",
        "    print(\"the number is even= \", i)\n",
        "  else:\n",
        "    print(\"the number is odd= \", i)"
      ]
    },
    {
      "cell_type": "code",
      "execution_count": null,
      "metadata": {
        "colab": {
          "base_uri": "https://localhost:8080/"
        },
        "id": "efUIcmRvLrhB",
        "outputId": "ba204b18-5218-45ab-836a-7569da1a6dd7"
      },
      "outputs": [
        {
          "name": "stdout",
          "output_type": "stream",
          "text": [
            "Enter number for multofication = 5\n",
            "The multification table of =  5\n",
            "5 x 1 = 5\n",
            "5 x 2 = 10\n",
            "5 x 3 = 15\n",
            "5 x 4 = 20\n",
            "5 x 5 = 25\n",
            "5 x 6 = 30\n",
            "5 x 7 = 35\n",
            "5 x 8 = 40\n",
            "5 x 9 = 45\n",
            "5 x 10 = 50\n"
          ]
        }
      ],
      "source": [
        "number = int(input(\"Enter number for multofication = \"))\n",
        "print(\"The multification table of = \", number)\n",
        "\n",
        "for i in range(1,11):\n",
        "  print(f\"{number} x {i} = {number*i}\" )"
      ]
    },
    {
      "cell_type": "code",
      "execution_count": null,
      "metadata": {
        "id": "3sonEzNyNt-2"
      },
      "outputs": [],
      "source": [
        "num_items= int(input(\"Number of items purchased =\"))\n",
        "total_price=0\n",
        "\n",
        "for i in range(num_items):\n",
        "  price=float(input(\"enter the price of product = \"))\n",
        "  total_price = total_price + price\n",
        "  i = i+1\n",
        "\n",
        "if total_price >= 100:\n",
        "  discount = 0.1*total_price\n",
        "elif 50<= total_price <100:\n",
        "  discount = 0.05*total_price\n",
        "else:\n",
        "  discount =0\n",
        "\n",
        "total_bill=total_price - discount\n",
        "print(\"Subtotal\", total_bill)"
      ]
    },
    {
      "cell_type": "markdown",
      "metadata": {
        "id": "U3pz1mfrgOl2"
      },
      "source": [
        "# **Def Function**"
      ]
    },
    {
      "cell_type": "code",
      "execution_count": null,
      "metadata": {
        "id": "CRwu9U-LgNU1"
      },
      "outputs": [],
      "source": [
        "def  my_function():\n",
        "  print(\"hello\")"
      ]
    },
    {
      "cell_type": "code",
      "execution_count": null,
      "metadata": {
        "colab": {
          "base_uri": "https://localhost:8080/"
        },
        "id": "Yu5COfIrgub-",
        "outputId": "824845ff-473e-41a1-86d4-d4bfe7baaeb7"
      },
      "outputs": [
        {
          "name": "stdout",
          "output_type": "stream",
          "text": [
            "hello\n"
          ]
        }
      ],
      "source": [
        "my_function()"
      ]
    },
    {
      "cell_type": "code",
      "execution_count": null,
      "metadata": {
        "id": "Yzc9U6oBgw-7"
      },
      "outputs": [],
      "source": [
        "def details_bill():\n",
        "  print(\"The last date of bill payment on next week\")\n",
        "  print(\"After deadline you need pay fine of 1000\")\n",
        "  print(\"pay your bill soon\")"
      ]
    },
    {
      "cell_type": "code",
      "execution_count": null,
      "metadata": {
        "colab": {
          "base_uri": "https://localhost:8080/",
          "height": 460
        },
        "id": "V8CqCiRChGTJ",
        "outputId": "d18cacc4-49cc-471d-91ff-0822b1b33143"
      },
      "outputs": [
        {
          "name": "stdout",
          "output_type": "stream",
          "text": [
            "enter the nameSagar\n",
            "enter the unit you have used500\n",
            "total amount to be paid =  5000\n",
            "The last date of bill payment on next week\n",
            "After deadline you need pay fine of 1000\n",
            "pay your bill soon\n"
          ]
        },
        {
          "ename": "KeyboardInterrupt",
          "evalue": "Interrupted by user",
          "output_type": "error",
          "traceback": [
            "\u001b[0;31m---------------------------------------------------------------------------\u001b[0m",
            "\u001b[0;31mKeyboardInterrupt\u001b[0m                         Traceback (most recent call last)",
            "\u001b[0;32m<ipython-input-5-bbdd2bc877cb>\u001b[0m in \u001b[0;36m<cell line: 1>\u001b[0;34m()\u001b[0m\n\u001b[1;32m      1\u001b[0m \u001b[0;32mfor\u001b[0m \u001b[0mi\u001b[0m \u001b[0;32min\u001b[0m \u001b[0mrange\u001b[0m\u001b[0;34m(\u001b[0m\u001b[0;36m3\u001b[0m\u001b[0;34m)\u001b[0m\u001b[0;34m:\u001b[0m\u001b[0;34m\u001b[0m\u001b[0;34m\u001b[0m\u001b[0m\n\u001b[0;32m----> 2\u001b[0;31m   \u001b[0ma\u001b[0m \u001b[0;34m=\u001b[0m \u001b[0minput\u001b[0m\u001b[0;34m(\u001b[0m\u001b[0;34m\"enter the name\"\u001b[0m\u001b[0;34m)\u001b[0m\u001b[0;34m\u001b[0m\u001b[0;34m\u001b[0m\u001b[0m\n\u001b[0m\u001b[1;32m      3\u001b[0m   \u001b[0mb\u001b[0m \u001b[0;34m=\u001b[0m \u001b[0mint\u001b[0m\u001b[0;34m(\u001b[0m\u001b[0minput\u001b[0m\u001b[0;34m(\u001b[0m\u001b[0;34m\"enter the unit you have used\"\u001b[0m\u001b[0;34m)\u001b[0m\u001b[0;34m)\u001b[0m\u001b[0;34m\u001b[0m\u001b[0;34m\u001b[0m\u001b[0m\n\u001b[1;32m      4\u001b[0m   \u001b[0mbill\u001b[0m \u001b[0;34m=\u001b[0m \u001b[0mb\u001b[0m\u001b[0;34m*\u001b[0m\u001b[0;36m10\u001b[0m\u001b[0;34m\u001b[0m\u001b[0;34m\u001b[0m\u001b[0m\n\u001b[1;32m      5\u001b[0m   \u001b[0mprint\u001b[0m\u001b[0;34m(\u001b[0m\u001b[0;34m\"total amount to be paid = \"\u001b[0m\u001b[0;34m,\u001b[0m \u001b[0mbill\u001b[0m\u001b[0;34m)\u001b[0m\u001b[0;34m\u001b[0m\u001b[0;34m\u001b[0m\u001b[0m\n",
            "\u001b[0;32m/usr/local/lib/python3.10/dist-packages/ipykernel/kernelbase.py\u001b[0m in \u001b[0;36mraw_input\u001b[0;34m(self, prompt)\u001b[0m\n\u001b[1;32m    849\u001b[0m                 \u001b[0;34m\"raw_input was called, but this frontend does not support input requests.\"\u001b[0m\u001b[0;34m\u001b[0m\u001b[0;34m\u001b[0m\u001b[0m\n\u001b[1;32m    850\u001b[0m             )\n\u001b[0;32m--> 851\u001b[0;31m         return self._input_request(str(prompt),\n\u001b[0m\u001b[1;32m    852\u001b[0m             \u001b[0mself\u001b[0m\u001b[0;34m.\u001b[0m\u001b[0m_parent_ident\u001b[0m\u001b[0;34m,\u001b[0m\u001b[0;34m\u001b[0m\u001b[0;34m\u001b[0m\u001b[0m\n\u001b[1;32m    853\u001b[0m             \u001b[0mself\u001b[0m\u001b[0;34m.\u001b[0m\u001b[0m_parent_header\u001b[0m\u001b[0;34m,\u001b[0m\u001b[0;34m\u001b[0m\u001b[0;34m\u001b[0m\u001b[0m\n",
            "\u001b[0;32m/usr/local/lib/python3.10/dist-packages/ipykernel/kernelbase.py\u001b[0m in \u001b[0;36m_input_request\u001b[0;34m(self, prompt, ident, parent, password)\u001b[0m\n\u001b[1;32m    893\u001b[0m             \u001b[0;32mexcept\u001b[0m \u001b[0mKeyboardInterrupt\u001b[0m\u001b[0;34m:\u001b[0m\u001b[0;34m\u001b[0m\u001b[0;34m\u001b[0m\u001b[0m\n\u001b[1;32m    894\u001b[0m                 \u001b[0;31m# re-raise KeyboardInterrupt, to truncate traceback\u001b[0m\u001b[0;34m\u001b[0m\u001b[0;34m\u001b[0m\u001b[0m\n\u001b[0;32m--> 895\u001b[0;31m                 \u001b[0;32mraise\u001b[0m \u001b[0mKeyboardInterrupt\u001b[0m\u001b[0;34m(\u001b[0m\u001b[0;34m\"Interrupted by user\"\u001b[0m\u001b[0;34m)\u001b[0m \u001b[0;32mfrom\u001b[0m \u001b[0;32mNone\u001b[0m\u001b[0;34m\u001b[0m\u001b[0;34m\u001b[0m\u001b[0m\n\u001b[0m\u001b[1;32m    896\u001b[0m             \u001b[0;32mexcept\u001b[0m \u001b[0mException\u001b[0m \u001b[0;32mas\u001b[0m \u001b[0me\u001b[0m\u001b[0;34m:\u001b[0m\u001b[0;34m\u001b[0m\u001b[0;34m\u001b[0m\u001b[0m\n\u001b[1;32m    897\u001b[0m                 \u001b[0mself\u001b[0m\u001b[0;34m.\u001b[0m\u001b[0mlog\u001b[0m\u001b[0;34m.\u001b[0m\u001b[0mwarning\u001b[0m\u001b[0;34m(\u001b[0m\u001b[0;34m\"Invalid Message:\"\u001b[0m\u001b[0;34m,\u001b[0m \u001b[0mexc_info\u001b[0m\u001b[0;34m=\u001b[0m\u001b[0;32mTrue\u001b[0m\u001b[0;34m)\u001b[0m\u001b[0;34m\u001b[0m\u001b[0;34m\u001b[0m\u001b[0m\n",
            "\u001b[0;31mKeyboardInterrupt\u001b[0m: Interrupted by user"
          ]
        }
      ],
      "source": [
        "for i in range(3):\n",
        "  a = input(\"enter the name\")\n",
        "  b = int(input(\"enter the unit you have used\"))\n",
        "  bill = b*10\n",
        "  print(\"total amount to be paid = \", bill)\n",
        "  details_bill()"
      ]
    },
    {
      "cell_type": "code",
      "execution_count": null,
      "metadata": {
        "id": "QF6Pdnbbh5kq"
      },
      "outputs": [],
      "source": [
        "def check_even_odd(number):\n",
        "  if number%2==0:\n",
        "    print(\"the number is even\")\n",
        "  else:\n",
        "    print(\"the number is odd\")"
      ]
    },
    {
      "cell_type": "code",
      "execution_count": null,
      "metadata": {
        "colab": {
          "base_uri": "https://localhost:8080/"
        },
        "id": "L9ZIhE0EiRVs",
        "outputId": "d20d623f-80ce-4fa0-9cd4-5a55a3c1edea"
      },
      "outputs": [
        {
          "name": "stdout",
          "output_type": "stream",
          "text": [
            "the number is even\n"
          ]
        }
      ],
      "source": [
        "check_even_odd(24)"
      ]
    },
    {
      "cell_type": "code",
      "execution_count": null,
      "metadata": {
        "id": "yveq4Ob9iUiL"
      },
      "outputs": [],
      "source": [
        "def calculate_exam_statistics(exam_scores):\n",
        "    num_students = len(exam_scores)\n",
        "\n",
        "    # Calculate the average score, max score, and min score\n",
        "    average_score = sum(exam_scores) / num_students\n",
        "    max_score = max(exam_scores)\n",
        "    min_score = min(exam_scores)\n",
        "\n",
        "    # Initialize the count for passed students\n",
        "    num_passed = 0\n",
        "\n",
        "    # Count how many students scored 80 or above\n",
        "    for score in exam_scores:\n",
        "        if score >= 80:\n",
        "            num_passed += 1\n",
        "\n",
        "    # Calculate the number of failed students\n",
        "    num_failed = num_students - num_passed\n",
        "\n",
        "    return average_score, min_score, max_score, num_passed, num_failed\n",
        "\n",
        "\n"
      ]
    },
    {
      "cell_type": "code",
      "execution_count": null,
      "metadata": {
        "colab": {
          "base_uri": "https://localhost:8080/"
        },
        "id": "kcEQyC3J32qO",
        "outputId": "6eb86059-ed0b-483e-ec80-1a3380f09db9"
      },
      "outputs": [
        {
          "name": "stdout",
          "output_type": "stream",
          "text": [
            "Average Score: 86.7\n",
            "Minimum Score: 78\n",
            "Maximum Score: 95\n",
            "Number of Passed Students: 8\n",
            "Number of Failed Students: 2\n"
          ]
        }
      ],
      "source": [
        "exam_score = [85, 92, 78, 90, 88, 95, 82, 79,87,91]\n",
        "average_score, min_score, max_score, num_passed, num_failed = calculate_exam_statistics(exam_score)\n",
        "\n",
        "print(\"Average Score:\", average_score)\n",
        "print(\"Minimum Score:\", min_score)\n",
        "print(\"Maximum Score:\", max_score)\n",
        "print(\"Number of Passed Students:\", num_passed)\n",
        "print(\"Number of Failed Students:\", num_failed)\n"
      ]
    },
    {
      "cell_type": "markdown",
      "metadata": {
        "id": "abpj6sCL7KW8"
      },
      "source": [
        "# **Special class 11 **\n"
      ]
    },
    {
      "cell_type": "code",
      "execution_count": null,
      "metadata": {
        "id": "24iM07yF7QVu"
      },
      "outputs": [],
      "source": [
        "def grade_distrubution_sysmtem(score):\n",
        "\n",
        "  for grade in score:\n",
        "    if 90<= grade <=100:\n",
        "      print (\"Your Grade is A\")\n",
        "\n",
        "    elif  80<= grade <=89:\n",
        "      print (\"Your Grade is B\")\n",
        "\n",
        "    elif  70<= grade <=79:\n",
        "      print (\"Your Grade is C\")\n",
        "\n",
        "    elif  60<= grade <=69:\n",
        "      print (\"Your Grade is  D\")\n",
        "\n",
        "    else:\n",
        "      print(\"Your Grade is E\")\n",
        "\n",
        "  return"
      ]
    },
    {
      "cell_type": "code",
      "execution_count": null,
      "metadata": {
        "colab": {
          "base_uri": "https://localhost:8080/"
        },
        "id": "2ax4rcmo8saa",
        "outputId": "2dc023f7-402f-4d2f-eb82-4594dfb701b4"
      },
      "outputs": [
        {
          "name": "stdout",
          "output_type": "stream",
          "text": [
            "Your Grade is B\n",
            "Your Grade is A\n",
            "Your Grade is C\n",
            "Your Grade is A\n",
            "Your Grade is B\n",
            "Your Grade is A\n",
            "Your Grade is B\n",
            "Your Grade is C\n",
            "Your Grade is B\n",
            "Your Grade is A\n"
          ]
        }
      ],
      "source": [
        "score = [85, 92, 78, 90, 88, 95, 82, 79,87,91]\n",
        "grade_distrubution_sysmtem(score)"
      ]
    },
    {
      "cell_type": "markdown",
      "metadata": {
        "id": "hYdCR2jFGk-_"
      },
      "source": [
        "#Random Guessing game"
      ]
    },
    {
      "cell_type": "code",
      "execution_count": null,
      "metadata": {
        "id": "8WmAXE5gJH9w"
      },
      "outputs": [],
      "source": [
        "import random\n",
        "def Random_guessing_game():\n",
        "    # Choose a random letter from the alphabet\n",
        "    secret_number = random.randint(1,5)\n",
        "    print(secret_number)\n",
        "\n",
        "    print(\"Welcome to the game\")\n",
        "    print(\"I have choosen one number, guess the number= \")\n",
        "\n",
        "    attempts = 0\n",
        "    guess = None\n",
        "\n",
        "    while guess != secret_number:\n",
        "\n",
        "      guess = int(input(\"Enter your guess number = \"))\n",
        "      attempts = attempts+1\n",
        "\n",
        "      if guess < secret_number:\n",
        "        print(\"Two low, please guess again\")\n",
        "\n",
        "      elif guess > secret_number:\n",
        "        print(\"Two High, please guess again\")\n",
        "\n",
        "      else:\n",
        "        print(\"Congratulation you choose correct number\")\n",
        "        print(\"Number of attempts\", attempts)\n",
        "        print(\"Thankyou for playing the game\")"
      ]
    },
    {
      "cell_type": "code",
      "execution_count": null,
      "metadata": {
        "colab": {
          "base_uri": "https://localhost:8080/"
        },
        "id": "qfodYZDvJe5I",
        "outputId": "ac7a841b-1a93-4032-9e1d-f3d1a4aa390b"
      },
      "outputs": [
        {
          "name": "stdout",
          "output_type": "stream",
          "text": [
            "2\n",
            "Welcome to the game\n",
            "I have choosen one number, guess the number= \n",
            "Enter your guess number = 1\n",
            "Two low, please guess again\n",
            "Enter your guess number = 2\n",
            "Congratulation you choose correct number\n",
            "Number of attempts 2\n",
            "Thankyou for playing the game\n"
          ]
        }
      ],
      "source": [
        "Random_guessing_game()"
      ]
    },
    {
      "cell_type": "markdown",
      "metadata": {
        "id": "HreSi1bGNIA3"
      },
      "source": [
        "Practic example 3\n"
      ]
    },
    {
      "cell_type": "code",
      "execution_count": null,
      "metadata": {
        "colab": {
          "base_uri": "https://localhost:8080/"
        },
        "id": "if56gi1ROuD9",
        "outputId": "09de1e26-574e-4025-9cac-572d2dd759c8"
      },
      "outputs": [
        {
          "name": "stdout",
          "output_type": "stream",
          "text": [
            "Enter your natural number: 3\n",
            "The sum of the squares of the first 3 natural numbers is: 14\n"
          ]
        }
      ],
      "source": [
        "def sum_of_square(n):\n",
        "    total = 0\n",
        "    for i in range(1, n + 1):\n",
        "        total += i ** 2  # Adds the square of each number to the total\n",
        "    return total\n",
        "\n",
        "def main():\n",
        "    n = int(input(\"Enter your natural number: \"))\n",
        "    result = sum_of_square(n)  # Call the function to calculate the sum of squares\n",
        "    print(f\"The sum of the squares of the first {n} natural numbers is: {result}\")\n",
        "\n",
        "# Call the main function to run the program\n",
        "main()\n"
      ]
    },
    {
      "cell_type": "code",
      "execution_count": null,
      "metadata": {
        "colab": {
          "base_uri": "https://localhost:8080/"
        },
        "id": "j4BswcoZBk23",
        "outputId": "2ec9bea5-2a31-49d0-e860-2d1326b9e406"
      },
      "outputs": [
        {
          "name": "stdout",
          "output_type": "stream",
          "text": [
            "[89, 76, 93, 72]\n"
          ]
        }
      ],
      "source": [
        "from pickle import HIGHEST_PROTOCOL\n",
        "scores = [55, 89, 76, 65, 93, 50, 72]\n",
        "highscore =[]\n",
        "\n",
        "for score in scores:\n",
        "  if score> 70:\n",
        "    highscore.append(score)\n",
        "\n",
        "  else:\n",
        "    pass\n",
        "print(highscore)"
      ]
    },
    {
      "cell_type": "code",
      "execution_count": null,
      "metadata": {
        "colab": {
          "base_uri": "https://localhost:8080/"
        },
        "id": "C8yWHVFYCVQL",
        "outputId": "a330f93c-1066-4747-d449-1dac29f68e2b"
      },
      "outputs": [
        {
          "ename": "SyntaxError",
          "evalue": "invalid syntax (<ipython-input-7-7efba7027e9c>, line 3)",
          "output_type": "error",
          "traceback": [
            "\u001b[0;36m  File \u001b[0;32m\"<ipython-input-7-7efba7027e9c>\"\u001b[0;36m, line \u001b[0;32m3\u001b[0m\n\u001b[0;31m    sum_first_five= sum(1:6)\u001b[0m\n\u001b[0m                         ^\u001b[0m\n\u001b[0;31mSyntaxError\u001b[0m\u001b[0;31m:\u001b[0m invalid syntax\n"
          ]
        }
      ],
      "source": [
        "list_data = [1,2,3,4,5,6,7,8,9,10]\n",
        "\n",
        "sum_first_five= sum(1:6)\n",
        "\n",
        "print(sum_)"
      ]
    },
    {
      "cell_type": "code",
      "execution_count": null,
      "metadata": {
        "colab": {
          "base_uri": "https://localhost:8080/"
        },
        "id": "5dl8Egb4n0p8",
        "outputId": "78f5f221-a512-4bb1-a54b-48b91f781d13"
      },
      "outputs": [
        {
          "name": "stdout",
          "output_type": "stream",
          "text": [
            "['yes', 'No', 'Maybe', 'Notokay']\n"
          ]
        }
      ],
      "source": [
        "My_resposes = [\"yes\",\"\",\"No\",\"\",\"Maybe\",\"\", \"Notokay\"]\n",
        "clean=[]\n",
        "\n",
        "for response in My_resposes:\n",
        "  if response != \"\":\n",
        "    clean.append(response)\n",
        "  else:\n",
        "    pass\n",
        "\n",
        "print(clean)"
      ]
    },
    {
      "cell_type": "code",
      "execution_count": null,
      "metadata": {
        "colab": {
          "background_save": true
        },
        "id": "FEcM4epC5nDH",
        "outputId": "90a5469c-e012-4ea6-f51d-95044370a5fd"
      },
      "outputs": [
        {
          "name": "stdout",
          "output_type": "stream",
          "text": [
            "[[1, 2], [3, 4], [5, 6], [7, 8], [9, 10]]\n"
          ]
        }
      ],
      "source": [
        "List_1 = [[1,2],[3,4],[5,6]]\n",
        "List_2 = [[7,8],[9,10]]\n",
        "\n",
        "sum = List_1 + List_2\n",
        "\n",
        "print"
      ]
    }
  ],
  "metadata": {
    "colab": {
      "provenance": []
    },
    "kernelspec": {
      "display_name": "Python 3",
      "name": "python3"
    },
    "language_info": {
      "name": "python"
    }
  },
  "nbformat": 4,
  "nbformat_minor": 0
}