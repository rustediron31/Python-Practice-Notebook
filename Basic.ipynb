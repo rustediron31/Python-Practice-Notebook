{
 "cells": [
  {
   "cell_type": "markdown",
   "id": "4e9d9a24-2934-453b-b127-2a414b389af5",
   "metadata": {},
   "source": [
    "1"
   ]
  },
  {
   "cell_type": "code",
   "execution_count": 1,
   "id": "f5861f5a-4e70-4cbc-b2a8-5cb75ac01905",
   "metadata": {},
   "outputs": [
    {
     "name": "stdout",
     "output_type": "stream",
     "text": [
      "11\n"
     ]
    }
   ],
   "source": [
    "print(5+3*2)"
   ]
  },
  {
   "cell_type": "markdown",
   "id": "1239b95c-d1c4-4c1c-bf91-e63f78f01b13",
   "metadata": {},
   "source": [
    "2"
   ]
  },
  {
   "cell_type": "code",
   "execution_count": 3,
   "id": "8b7cc339-a051-4aaf-a594-f1954abac655",
   "metadata": {},
   "outputs": [
    {
     "name": "stdout",
     "output_type": "stream",
     "text": [
      "15\n"
     ]
    }
   ],
   "source": [
    "x =5\n",
    "y= 10\n",
    "x += y\n",
    "print(x)"
   ]
  },
  {
   "cell_type": "markdown",
   "id": "466b264a-8521-4ff5-9ba3-50c50ff204a2",
   "metadata": {},
   "source": [
    "3"
   ]
  },
  {
   "cell_type": "code",
   "execution_count": 7,
   "id": "3c6f5014-2f98-425d-8a18-fbc1a861f634",
   "metadata": {},
   "outputs": [
    {
     "data": {
      "text/plain": [
       "True"
      ]
     },
     "execution_count": 7,
     "metadata": {},
     "output_type": "execute_result"
    }
   ],
   "source": [
    "(10>5) and (not (5>10))"
   ]
  },
  {
   "cell_type": "markdown",
   "id": "3adb532b-4ad2-4d7f-9d21-d647e4151097",
   "metadata": {},
   "source": [
    "4"
   ]
  },
  {
   "cell_type": "code",
   "execution_count": 9,
   "id": "5bd9c6ff-3634-44f1-8ed7-96b8c8029cde",
   "metadata": {},
   "outputs": [
    {
     "name": "stdout",
     "output_type": "stream",
     "text": [
      "3.5\n"
     ]
    }
   ],
   "source": [
    "print (7/2)"
   ]
  },
  {
   "cell_type": "markdown",
   "id": "8668a4f2-3334-4f14-b878-edb66486c0df",
   "metadata": {},
   "source": [
    "5"
   ]
  },
  {
   "cell_type": "code",
   "execution_count": 29,
   "id": "ffc302a0-d2cf-4c2a-9c89-1a4702331ce2",
   "metadata": {},
   "outputs": [
    {
     "name": "stdout",
     "output_type": "stream",
     "text": [
      "2\n"
     ]
    }
   ],
   "source": [
    "print(4//2)"
   ]
  },
  {
   "cell_type": "markdown",
   "id": "9ce3d02b-7719-42ed-8ae0-f45a544cc28c",
   "metadata": {},
   "source": [
    "6"
   ]
  },
  {
   "cell_type": "code",
   "execution_count": 13,
   "id": "fc8b83a9-1ec9-4212-855b-0c2359edf0db",
   "metadata": {},
   "outputs": [
    {
     "name": "stdout",
     "output_type": "stream",
     "text": [
      "[4, 2, 3]\n"
     ]
    }
   ],
   "source": [
    "a = [1,2,3]\n",
    "b = a\n",
    "b[0] = 4\n",
    "print(a)"
   ]
  },
  {
   "cell_type": "markdown",
   "id": "1e26a507-23c6-4df5-aeac-c468c2d392be",
   "metadata": {},
   "source": [
    "7"
   ]
  },
  {
   "cell_type": "code",
   "execution_count": 15,
   "id": "09c452fb-6b1b-4158-ac02-68641713c332",
   "metadata": {},
   "outputs": [
    {
     "name": "stdout",
     "output_type": "stream",
     "text": [
      "ell\n"
     ]
    }
   ],
   "source": [
    "s = \"hello\"\n",
    "print(s[1:4])"
   ]
  },
  {
   "cell_type": "markdown",
   "id": "8f96171d-521a-428d-82c7-b55bc1e3bced",
   "metadata": {},
   "source": [
    "8"
   ]
  },
  {
   "cell_type": "code",
   "execution_count": 17,
   "id": "32d391be-a01e-4b8d-af07-da02f2eeac64",
   "metadata": {},
   "outputs": [
    {
     "name": "stdout",
     "output_type": "stream",
     "text": [
      "512\n"
     ]
    }
   ],
   "source": [
    "result = 2**3**2\n",
    "print(result)"
   ]
  },
  {
   "cell_type": "markdown",
   "id": "07f9b361-926e-48e2-a813-5bca3852649e",
   "metadata": {},
   "source": [
    "9"
   ]
  },
  {
   "cell_type": "code",
   "execution_count": 37,
   "id": "fb5998ae-5476-426a-b0d8-ea6544f5020e",
   "metadata": {},
   "outputs": [
    {
     "name": "stdout",
     "output_type": "stream",
     "text": [
      "[5, 4, 3, 2, 1]\n"
     ]
    }
   ],
   "source": [
    "a = [1,2,3,4,5]\n",
    "print(a [::-1])"
   ]
  },
  {
   "cell_type": "markdown",
   "id": "77a4bcad-6578-4dbe-ab3c-252fd64768a7",
   "metadata": {},
   "source": [
    "10"
   ]
  },
  {
   "cell_type": "code",
   "execution_count": 41,
   "id": "ac4d2335-74ea-4d8b-811a-0e249047794e",
   "metadata": {},
   "outputs": [
    {
     "name": "stdout",
     "output_type": "stream",
     "text": [
      "1\n"
     ]
    }
   ],
   "source": [
    "print(10%3)"
   ]
  },
  {
   "cell_type": "markdown",
   "id": "8601b19a-a2de-4d2c-9dc7-9183d5972524",
   "metadata": {},
   "source": [
    "11"
   ]
  },
  {
   "cell_type": "code",
   "execution_count": 43,
   "id": "a93164f0-9e78-466e-88fb-e9e7fc9738ea",
   "metadata": {},
   "outputs": [
    {
     "name": "stdout",
     "output_type": "stream",
     "text": [
      "True\n",
      "False\n"
     ]
    }
   ],
   "source": [
    "x = [1,2,3]\n",
    "y = [1,2,3]\n",
    "print (x == y)\n",
    "print(x is y)"
   ]
  },
  {
   "cell_type": "markdown",
   "id": "fb409ec6-2399-4063-93af-bfa8c05e41ff",
   "metadata": {},
   "source": [
    "12"
   ]
  },
  {
   "cell_type": "code",
   "execution_count": 50,
   "id": "bec6fbbf-21b3-4360-b42b-d3cfcd90ba7b",
   "metadata": {},
   "outputs": [
    {
     "name": "stdout",
     "output_type": "stream",
     "text": [
      "pythonpythonpython\n"
     ]
    }
   ],
   "source": [
    "x = \"python\"\n",
    "y= x*3\n",
    "print(y)\n"
   ]
  },
  {
   "cell_type": "markdown",
   "id": "7bb17fa2-7bdd-42cc-a74a-c1b0fba760c5",
   "metadata": {},
   "source": [
    "13"
   ]
  },
  {
   "cell_type": "code",
   "execution_count": 54,
   "id": "e24d8672-491a-427a-91ab-3f30204ac304",
   "metadata": {},
   "outputs": [
    {
     "name": "stdout",
     "output_type": "stream",
     "text": [
      "2\n"
     ]
    }
   ],
   "source": [
    "x = True +1\n",
    "print(x)"
   ]
  },
  {
   "cell_type": "markdown",
   "id": "f8e505b0-0974-49d4-9441-89857db9d917",
   "metadata": {},
   "source": [
    "14"
   ]
  },
  {
   "cell_type": "code",
   "execution_count": 56,
   "id": "5601578f-f6bf-4a4d-a79a-024169c62963",
   "metadata": {},
   "outputs": [
    {
     "name": "stdout",
     "output_type": "stream",
     "text": [
      "True\n"
     ]
    }
   ],
   "source": [
    "print('abc' <'abd')"
   ]
  },
  {
   "cell_type": "markdown",
   "id": "62c83147-c506-4c63-842b-337b7ec20416",
   "metadata": {},
   "source": [
    "15"
   ]
  },
  {
   "cell_type": "code",
   "execution_count": 58,
   "id": "ccb2ef02-c3f9-4652-b6b5-d96ebc14d9be",
   "metadata": {},
   "outputs": [
    {
     "name": "stdout",
     "output_type": "stream",
     "text": [
      "{'a': 1, 'b': 2, 'c': 3}\n"
     ]
    }
   ],
   "source": [
    "d= {'a':1, 'b':2}\n",
    "d['c'] = 3\n",
    "print(d)"
   ]
  },
  {
   "cell_type": "markdown",
   "id": "9294d3d9-604a-48f1-8a83-f1e285543dca",
   "metadata": {},
   "source": [
    "16"
   ]
  },
  {
   "cell_type": "code",
   "execution_count": 68,
   "id": "df295bd1-ef08-487b-992f-e921ba6f2d81",
   "metadata": {},
   "outputs": [
    {
     "name": "stdout",
     "output_type": "stream",
     "text": [
      "123456\n"
     ]
    }
   ],
   "source": [
    "a ='123'\n",
    "a += '456'\n",
    "print(a)"
   ]
  },
  {
   "cell_type": "markdown",
   "id": "072b9edd-85ed-4798-a8c9-6d59d2ff4fda",
   "metadata": {},
   "source": [
    "17"
   ]
  },
  {
   "cell_type": "code",
   "execution_count": 71,
   "id": "68c13be8-899a-4f01-b69c-3960356574f8",
   "metadata": {},
   "outputs": [
    {
     "name": "stdout",
     "output_type": "stream",
     "text": [
      "[1, 2, 3]\n",
      "[1, 2, 3, 4]\n"
     ]
    }
   ],
   "source": [
    "a =[1,2,3]\n",
    "b=a[:]\n",
    "b.append(4)\n",
    "print(a)\n",
    "print(b)"
   ]
  },
  {
   "cell_type": "markdown",
   "id": "18d4b225-16a5-4e32-a8e3-78e6387c42bf",
   "metadata": {},
   "source": [
    "18"
   ]
  },
  {
   "cell_type": "code",
   "execution_count": 74,
   "id": "27485423-e467-4fee-9b9e-88949aa34849",
   "metadata": {},
   "outputs": [
    {
     "name": "stdout",
     "output_type": "stream",
     "text": [
      "108\n"
     ]
    }
   ],
   "source": [
    "print(3*(2+4)**2)"
   ]
  },
  {
   "cell_type": "markdown",
   "id": "623e4d7b-aaf3-44ae-be7c-e70a97b20a24",
   "metadata": {},
   "source": [
    "19"
   ]
  },
  {
   "cell_type": "code",
   "execution_count": 77,
   "id": "1053866c-67ba-407e-902f-e43d131a3fa9",
   "metadata": {},
   "outputs": [
    {
     "name": "stdout",
     "output_type": "stream",
     "text": [
      "True\n"
     ]
    }
   ],
   "source": [
    "print(5 == 5.0)"
   ]
  },
  {
   "cell_type": "markdown",
   "id": "ecdc7ee6-42d3-42ef-9dec-f99afe34e028",
   "metadata": {},
   "source": [
    "20"
   ]
  },
  {
   "cell_type": "code",
   "execution_count": 82,
   "id": "9e005b3e-09da-4962-9a61-510023c392b8",
   "metadata": {},
   "outputs": [
    {
     "name": "stdout",
     "output_type": "stream",
     "text": [
      "(1, 2, 3, 4)\n"
     ]
    }
   ],
   "source": [
    "x = (1,2,3)\n",
    "y =x +(4,)\n",
    "print(y)"
   ]
  },
  {
   "cell_type": "code",
   "execution_count": null,
   "id": "5e124c49-8ddb-4ac0-a21d-027c433a9534",
   "metadata": {},
   "outputs": [],
   "source": []
  }
 ],
 "metadata": {
  "kernelspec": {
   "display_name": "Python 3 (ipykernel)",
   "language": "python",
   "name": "python3"
  },
  "language_info": {
   "codemirror_mode": {
    "name": "ipython",
    "version": 3
   },
   "file_extension": ".py",
   "mimetype": "text/x-python",
   "name": "python",
   "nbconvert_exporter": "python",
   "pygments_lexer": "ipython3",
   "version": "3.12.4"
  }
 },
 "nbformat": 4,
 "nbformat_minor": 5
}
